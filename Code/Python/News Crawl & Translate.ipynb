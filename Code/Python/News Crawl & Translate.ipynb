{
 "cells": [
  {
   "cell_type": "code",
   "execution_count": null,
   "metadata": {
    "collapsed": true
   },
   "outputs": [],
   "source": [
    "!pip install googletrans"
   ]
  },
  {
   "cell_type": "code",
   "execution_count": 156,
   "metadata": {},
   "outputs": [
    {
     "name": "stdout",
     "output_type": "stream",
     "text": [
      "Collecting openpyxl\n",
      "  Downloading openpyxl-2.4.9.tar.gz (157kB)\n",
      "\u001b[K    100% |████████████████████████████████| 163kB 1.5MB/s ta 0:00:01\n",
      "\u001b[?25hCollecting jdcal (from openpyxl)\n",
      "  Downloading jdcal-1.3.tar.gz\n",
      "Collecting et_xmlfile (from openpyxl)\n",
      "  Downloading et_xmlfile-1.0.1.tar.gz\n",
      "Building wheels for collected packages: openpyxl, jdcal, et-xmlfile\n",
      "  Running setup.py bdist_wheel for openpyxl ... \u001b[?25ldone\n",
      "\u001b[?25h  Stored in directory: /Users/hsw/Library/Caches/pip/wheels/8d/ae/96/0b8e7890053c46c22b48d021d104b00e5544c3aedd641749e1\n",
      "  Running setup.py bdist_wheel for jdcal ... \u001b[?25ldone\n",
      "\u001b[?25h  Stored in directory: /Users/hsw/Library/Caches/pip/wheels/0f/63/92/19ac65ed64189de4d662f269d39dd08a887258842ad2f29549\n",
      "  Running setup.py bdist_wheel for et-xmlfile ... \u001b[?25ldone\n",
      "\u001b[?25h  Stored in directory: /Users/hsw/Library/Caches/pip/wheels/99/f6/53/5e18f3ff4ce36c990fa90ebdf2b80cd9b44dc461f750a1a77c\n",
      "Successfully built openpyxl jdcal et-xmlfile\n",
      "Installing collected packages: jdcal, et-xmlfile, openpyxl\n",
      "Successfully installed et-xmlfile-1.0.1 jdcal-1.3 openpyxl-2.4.9\n"
     ]
    }
   ],
   "source": [
    "!pip install openpyxl"
   ]
  },
  {
   "cell_type": "code",
   "execution_count": 157,
   "metadata": {
    "collapsed": true
   },
   "outputs": [],
   "source": [
    "import openpyxl"
   ]
  },
  {
   "cell_type": "code",
   "execution_count": null,
   "metadata": {
    "collapsed": true
   },
   "outputs": [],
   "source": [
    "!pip install textblob"
   ]
  },
  {
   "cell_type": "code",
   "execution_count": 64,
   "metadata": {
    "collapsed": true
   },
   "outputs": [],
   "source": [
    "from googletrans import Translator\n",
    "translator = Translator()\n",
    "\n",
    "from newspaper import Article\n",
    "\n",
    "from __future__ import print_function\n",
    "from lexrankr import LexRank\n",
    "\n",
    "##########################################\n",
    "\n",
    "from selenium import webdriver\n",
    "\n",
    "from bs4 import BeautifulSoup\n",
    "from urllib.request import urlopen\n",
    "from urllib.request import Request\n",
    "from urllib import parse\n",
    "\n",
    "import time\n",
    "import random\n",
    "\n",
    "\n",
    "import pandas as pd\n",
    "import numpy as np\n",
    "\n",
    "from selenium.webdriver.support import expected_conditions as EC\n",
    "from selenium.webdriver.support.ui import WebDriverWait\n",
    "\n",
    "from konlpy.tag import Kkma\n",
    "from konlpy.utils import pprint\n",
    "from konlpy.tag import Komoran\n",
    "\n",
    "from operator import itemgetter\n",
    "\n",
    "import re\n",
    "from datetime import datetime, timedelta\n",
    "from dateutil.relativedelta import relativedelta"
   ]
  },
  {
   "cell_type": "code",
   "execution_count": 210,
   "metadata": {
    "collapsed": true
   },
   "outputs": [],
   "source": [
    "driver = webdriver.Chrome('/Users/hsw/Desktop/개인파일/Text_Mining/Podbbang_Crawling/chromedriver')  ## 크롬을 열 수 있는 driver\n",
    "driver.implicitly_wait(3)  ## 잠시 기다린 후\n",
    "driver.get('https://azure.microsoft.com/ko-kr/services/cognitive-services/text-analytics/') ## 홈페이지 열기(실제 열리는 걸 확인할 수 있습니다.)"
   ]
  },
  {
   "cell_type": "code",
   "execution_count": 114,
   "metadata": {
    "collapsed": true
   },
   "outputs": [],
   "source": [
    "driver2 = webdriver.Chrome('/Users/hsw/Desktop/개인파일/Text_Mining/Podbbang_Crawling/chromedriver')  ## 크롬을 열 수 있는 driver\n",
    "driver2.implicitly_wait(3)  ## 잠시 기다린 후\n",
    "driver2.get('https://search.naver.com/search.naver?where=news&query=%ED%95%B8%EB%94%94%EC%86%8C%ED%94%84%ED%8A%B8&ie=utf8&sm=tab_opt&sort=1&photo=0&field=1&reporter_article=&pd=3&ds=2016.01.01&de=2017.11.15&docid=&nso=so%3Add%2Cp%3Afrom20140101to20171115%2Ca%3At&mynews=1&mson=0&refresh_start=0&related=0') ## 홈페이지 열기(실제 열리는 걸 확인할 수 있습니다.)"
   ]
  },
  {
   "cell_type": "code",
   "execution_count": null,
   "metadata": {
    "collapsed": true
   },
   "outputs": [],
   "source": [
    "def Find_URL(Company_name, pageNum): ##1번째 Function, 회사이름과 원하는 Page 입력하면 Title에 회사이름이 들어간 URL 긁어옴\n",
    "    allResult = []\n",
    "    transform = parse.quote(Company_name) \n",
    "    for num in range(1, (pageNum+1)):\n",
    "        news = 'http://search.khan.co.kr/search.html?stb=khan&q=' + transform + '&pg=' + str(num) + '&sort=1'\n",
    "        req = Request(news)\n",
    "        response = urlopen(req)\n",
    "        thepage = response.read()\n",
    "        bsObj = BeautifulSoup(thepage,'html.parser')\n",
    "        article = bsObj.findAll('dl', {'class':'phArtc'})\n",
    "        for i in article:\n",
    "            if(i.find('a').text.find(Company_name) == -1):  ## Title에 회사이름이 들어가있지 않으면\n",
    "                continue ## Pass\n",
    "            allResult.append([i.find('a').text, i.find('span').text[1:][:-1], \n",
    "                              i.find('a').attrs['href']])\n",
    "    return(allResult)"
   ]
  },
  {
   "cell_type": "code",
   "execution_count": 73,
   "metadata": {
    "collapsed": true
   },
   "outputs": [],
   "source": [
    "def Find_URL2(Company_name, end):\n",
    "    result = []\n",
    "    end2 = end.split('.')\n",
    "    end3 = datetime(int(end2[0]), int(end2[1]), int(end2[2]))\n",
    "    begin = (end3 - relativedelta(months = 12)).strftime(\"%Y/%m/%d\")\n",
    "    end4 = (end3 - relativedelta(months = 3)).strftime(\"%Y/%m/%d\")\n",
    "    beginDate = \"\".join(begin.split('/'))\n",
    "    endDate = \"\".join(end4.split('/'))\n",
    "    \n",
    "    \n",
    "    driver2.find_element_by_xpath('//*[@id=\"news_inner_search_query\"]').send_keys(Company_name)\n",
    "    driver2.find_element_by_xpath('//*[@id=\"main_pack\"]/div[2]/div/div[3]/span/button').click()\n",
    "    time.sleep(1)\n",
    "    driver2.find_element_by_xpath('//*[@id=\"snb\"]/div/ul/li[2]/a').click()\n",
    "    time.sleep(1)\n",
    "    \n",
    "    for i in beginDate:\n",
    "        driver2.find_element_by_xpath('//*[@id=\"news_input_period_begin\"]').send_keys(i)\n",
    "        time.sleep(0.2)\n",
    "    time.sleep(1)\n",
    "    driver2.find_element_by_xpath('//*[@id=\"news_input_period_end\"]').click()\n",
    "    time.sleep(1)\n",
    "    for j in endDate:\n",
    "        driver2.find_element_by_xpath('//*[@id=\"news_input_period_end\"]').send_keys(j)\n",
    "        time.sleep(0.2)\n",
    "    time.sleep(1)\n",
    "    driver2.find_element_by_xpath('//*[@id=\"_nx_option_date\"]/div[2]/span/button/span').click()\n",
    "    time.sleep(1)\n",
    "    \n",
    "    \n",
    "    \n",
    "    for i in range(0,100000):\n",
    "        try:\n",
    "            bsObj = BeautifulSoup(driver2.page_source,'html.parser')\n",
    "            obj2 = bsObj.findAll('li', {'id' : re.compile('sp_nws.*')})\n",
    "            for j in obj2:\n",
    "                result.append(j.find('a').attrs['href'])\n",
    "            driver2.find_element_by_class_name('next').click()\n",
    "        except:\n",
    "            break\n",
    "    return(result)"
   ]
  },
  {
   "cell_type": "code",
   "execution_count": 258,
   "metadata": {
    "collapsed": true
   },
   "outputs": [],
   "source": [
    "def Text_analytics(url):  ## 2번째 Function , url을 받아와서\n",
    "    article = Article(url)\n",
    "    try:\n",
    "        article.download()\n",
    "        article.parse() ## url에 있는 기사 가져옴\n",
    "        if(len(article.text) != 0):\n",
    "            lexrank = LexRank()  # can init with various settings\n",
    "            try:\n",
    "                lexrank.summarize(article.text) ## 요약\n",
    "                summaries = lexrank.probe(0)\n",
    "                trans = []\n",
    "                for summary in summaries: ## 요약된 문장마다 구글번역기로 영어로 번역\n",
    "                    trans.append(translator.translate(summary, dest='en').text)\n",
    "                L_to_S = \"\".join(trans) ## 문장이 list로 각각 들어가 있는데, 한 String으로 만들려고 하는 짓.\n",
    "            except:\n",
    "                L_to_S = translator.translate(article.text, dest='en').text\n",
    "\n",
    "            a1 = driver.find_element_by_class_name('user-input-text-api') ## 감정분석하는 이 네모안을 찾음\n",
    "            a1.clear() ## 기존에 있는 Text 지우기\n",
    "            a1.send_keys(L_to_S) ## 그리고 위에서 한 String으로 만든 것들을 채워 넣음\n",
    "            driver.find_element_by_xpath('//*[@id=\"main\"]/section[1]/div[3]/div[1]/form/div[2]/input').click() ## '분석'을 클릭\n",
    "            time.sleep(3) ## 분석 한 뒤에 약간 시간이 있어야 결과가 나와서 5초간 기다림\n",
    "            percent = driver.find_element_by_class_name('absolutely-centered') ## 기다린 후에 %를 가져옴\n",
    "            return(percent.text[:-2])\n",
    "        else:\n",
    "            return('-1')\n",
    "    except:\n",
    "        return('-1')"
   ]
  },
  {
   "cell_type": "code",
   "execution_count": 218,
   "metadata": {},
   "outputs": [
    {
     "data": {
      "text/plain": [
       "\"게임빌(대표 송병준, www.gamevil.com )이 자사 간판 게임 '별이되어라!'의 출시 1주년 맞이 대규모 프로모션을 진행 중이라고 17일, 밝혔다.게임빌은 365일 꾸준히 보내온 유저들의 성원에 보답하기 위해 대규모 이벤트와 업데이트를 마련했다.앞서 10일부터 접속하는 유저들에게 일별로 '골드', '신발', '티켓', 'S~SS급 동료 뽑기권' 등 푸짐한 아이템을 선물하고 있으며, 특히 출시 1주년이자 이벤트 마지막 날인 17일에는 접속하는 모든 유저들에게 'SSS급 동료 뽑기권'과 '추가 버프'를 파격적으로 제공한다.더불어 스킬 카드 합성 시스템 추가, 마스터 업적 추가, 요일 던전 업그레이드, 업적 시스템 개선 등 유저 맞춤형 업데이트도 동시에 진행, 본격적인 세몰이에 나섰다.지난 해 2월에 출시되어 장기 흥행 중인 '별이되어라!'는 국내 모바일게임 시장에서 RPG 인기를 선도해 왔다.플린트(대표 김영모)가 개발하고 게임빌이 서비스하는 이 게임은 양사의 긴밀한 파트너십을 바탕으로 개발사와 퍼블리셔 협력의 모범 사례로도 꼽히고 있다. 특히 국내 기세에 이어 글로벌 시장 공략도 앞두고 있어 관심이 집중된다.윤아름 기자 game@heraldcorp.com\""
      ]
     },
     "execution_count": 218,
     "metadata": {},
     "output_type": "execute_result"
    }
   ],
   "source": [
    "url = 'http://biz.heraldcorp.com/view.php?ud=20150217000753&ACE_SEARCH=1'\n",
    "article = Article(url)\n",
    "article.download()\n",
    "article.parse()\n",
    "article.text"
   ]
  },
  {
   "cell_type": "code",
   "execution_count": 235,
   "metadata": {},
   "outputs": [
    {
     "data": {
      "text/plain": [
       "'2015/02/17'"
      ]
     },
     "execution_count": 235,
     "metadata": {},
     "output_type": "execute_result"
    }
   ],
   "source": [
    "article.publish_date.strftime(\"%Y/%m/%d\")"
   ]
  },
  {
   "cell_type": "code",
   "execution_count": 249,
   "metadata": {},
   "outputs": [
    {
     "data": {
      "text/plain": [
       "['2015/02/17', '100']"
      ]
     },
     "execution_count": 249,
     "metadata": {},
     "output_type": "execute_result"
    }
   ],
   "source": [
    "Text_analytics('http://biz.heraldcorp.com/view.php?ud=20150217000753&ACE_SEARCH=1')"
   ]
  },
  {
   "cell_type": "code",
   "execution_count": 248,
   "metadata": {},
   "outputs": [
    {
     "data": {
      "text/plain": [
       "['2015/02/19', '-1']"
      ]
     },
     "execution_count": 248,
     "metadata": {},
     "output_type": "execute_result"
    }
   ],
   "source": [
    "Text_analytics('http://www.fnnews.com/news/201502171433050639')"
   ]
  },
  {
   "cell_type": "code",
   "execution_count": null,
   "metadata": {
    "collapsed": true
   },
   "outputs": [],
   "source": [
    "sum(summaries, [])"
   ]
  },
  {
   "cell_type": "code",
   "execution_count": null,
   "metadata": {
    "collapsed": true
   },
   "outputs": [],
   "source": [
    "trans = []\n",
    "for summary in summaries:\n",
    "    trans.append(translator.translate(summary, dest='en').text)\n",
    "L_to_S = \"\".join(trans)\n",
    "L_to_S"
   ]
  },
  {
   "cell_type": "code",
   "execution_count": null,
   "metadata": {
    "collapsed": true
   },
   "outputs": [],
   "source": [
    "start_time = time.time()\n",
    "sentiment = []\n",
    "\n",
    "ready = Find_URL('네이버',126) # 1번째 함수\n",
    "data = pd.DataFrame(ready)\n",
    "\n",
    "print(\"URL 수집 완료\")\n",
    "print(\"총 \" + str(data.shape[0]) + \" 번 돌아갑니다.\")\n",
    "i = 0\n",
    "for url in data[2]:\n",
    "    i += 1\n",
    "    if(i % 10 == 0):\n",
    "        print(str(i) + \"번 째 돌아가고 있습니다.\")\n",
    "    try:\n",
    "        p = Text_analytics(url) # 2번째 함수\n",
    "        sentiment.append(p)\n",
    "        print(p)\n",
    "    except:\n",
    "        sentiment.append('None')\n",
    "        pass\n",
    "\n",
    "data['sentiment'] = sentiment\n",
    "end_time = time.time()\n",
    "print(end_time - start_time)"
   ]
  },
  {
   "cell_type": "code",
   "execution_count": null,
   "metadata": {
    "collapsed": true
   },
   "outputs": [],
   "source": [
    "sentiment_1 = sentiment"
   ]
  },
  {
   "cell_type": "code",
   "execution_count": null,
   "metadata": {
    "collapsed": true
   },
   "outputs": [],
   "source": [
    "start_time = time.time()\n",
    "sentiment = []\n",
    "\n",
    "i = 0\n",
    "for url in data[2]:\n",
    "    i += 1\n",
    "    if(i % 10 == 0):\n",
    "        print(str(i) + \"번 째 돌아가고 있습니다.\")\n",
    "    try:\n",
    "        sentiment.append(Text_analytics(url))\n",
    "    except:\n",
    "        sentiment.append('None')\n",
    "        pass\n",
    "\n",
    "sentiment_2 = sentiment\n",
    "end_time = time.time()\n",
    "print(end_time - start_time)"
   ]
  },
  {
   "cell_type": "code",
   "execution_count": null,
   "metadata": {
    "collapsed": true
   },
   "outputs": [],
   "source": [
    "sentiment_2 = sentiment"
   ]
  },
  {
   "cell_type": "code",
   "execution_count": null,
   "metadata": {
    "collapsed": true
   },
   "outputs": [],
   "source": [
    "allsenti = sentiment_1 + sentiment_2"
   ]
  },
  {
   "cell_type": "code",
   "execution_count": null,
   "metadata": {
    "collapsed": true
   },
   "outputs": [],
   "source": [
    "len(allsenti)"
   ]
  },
  {
   "cell_type": "code",
   "execution_count": null,
   "metadata": {
    "collapsed": true
   },
   "outputs": [],
   "source": [
    "data['sentiment'] = allsenti"
   ]
  },
  {
   "cell_type": "code",
   "execution_count": null,
   "metadata": {
    "collapsed": true
   },
   "outputs": [],
   "source": [
    "data.columns = ['Title','Date','URL','Sentiment']"
   ]
  },
  {
   "cell_type": "code",
   "execution_count": null,
   "metadata": {
    "collapsed": true
   },
   "outputs": [],
   "source": [
    "data.to_csv('/Users/hsw/Desktop/인하대학교/2017년 2학기/빅데이터 자료분석/Project/Naver_Sentiment.csv', index = False)"
   ]
  },
  {
   "cell_type": "code",
   "execution_count": null,
   "metadata": {
    "collapsed": true
   },
   "outputs": [],
   "source": [
    "start_time = time.time()\n",
    "sentiment = []\n",
    "\n",
    "ready = Find_URL('네이버',126)\n",
    "data = pd.DataFrame(ready)\n",
    "\n",
    "print(\"총 \" + str(data.shape[0]) + \" 번 돌아갑니다.\")\n",
    "i = 0\n",
    "for url in data[2]:\n",
    "    i += 1\n",
    "    if(i % 10 == 0):\n",
    "        print(str(i) + \"번 째 돌아가고 있습니다.\")\n",
    "    try:\n",
    "        sentiment.append(Text_analytics(url))\n",
    "    except:\n",
    "        sentiment.append('None')\n",
    "        pass\n",
    "\n",
    "data['sentiment'] = sentiment\n",
    "end_time = time.time()\n",
    "print(end_time - start_time)"
   ]
  },
  {
   "cell_type": "code",
   "execution_count": null,
   "metadata": {
    "collapsed": true
   },
   "outputs": [],
   "source": [
    "mydata = pd.read_csv('/Users/hsw/Desktop/인하대학교/2017년 2학기/빅데이터 자료분석/Project/Naver_Sentiment.csv')"
   ]
  },
  {
   "cell_type": "code",
   "execution_count": null,
   "metadata": {
    "collapsed": true
   },
   "outputs": [],
   "source": [
    "mydata"
   ]
  },
  {
   "cell_type": "code",
   "execution_count": null,
   "metadata": {
    "collapsed": true
   },
   "outputs": [],
   "source": [
    "news = 'https://search.naver.com/search.naver?ie=utf8&where=news&query=%ED%95%B8%EB%94%94%EC%86%8C%ED%94%84%ED%8A%B8&sm=tab_pge&sort=1&photo=0&field=1&reporter_article=&pd=5&ds=2016.11.15&de=2017.11.15&docid=&nso=so:dd,p:1y,a:t&mynews=1&start=71&refresh_start=0'\n",
    "req = Request(news)\n",
    "response = urlopen(req)\n",
    "thepage = response.read()\n",
    "bsObj = BeautifulSoup(thepage,'html.parser')"
   ]
  },
  {
   "cell_type": "code",
   "execution_count": null,
   "metadata": {
    "collapsed": true
   },
   "outputs": [],
   "source": [
    "obj2 = bsObj.findAll('li', {'id' : re.compile('sp_nws.*')})\n",
    "len(obj2)"
   ]
  },
  {
   "cell_type": "code",
   "execution_count": null,
   "metadata": {
    "collapsed": true
   },
   "outputs": [],
   "source": [
    "for i in obj2:\n",
    "    print(i.find('a').attrs['href'])"
   ]
  },
  {
   "cell_type": "code",
   "execution_count": null,
   "metadata": {
    "collapsed": true
   },
   "outputs": [],
   "source": [
    "obj2[0].find('a').attrs['href']"
   ]
  },
  {
   "cell_type": "code",
   "execution_count": null,
   "metadata": {
    "collapsed": true
   },
   "outputs": [],
   "source": [
    "obj2[0].find('a', {'class' : '_sp_each_url'}).text"
   ]
  },
  {
   "cell_type": "code",
   "execution_count": null,
   "metadata": {
    "collapsed": true
   },
   "outputs": [],
   "source": [
    "obj2[0].find('a', {'class' : '_sp_each_url'})"
   ]
  },
  {
   "cell_type": "code",
   "execution_count": null,
   "metadata": {
    "collapsed": true
   },
   "outputs": [],
   "source": [
    "round(int(bsObj.find('div', {'class' : 'title_desc all_my'}).text.split('/')[1][:-1]) / 10)"
   ]
  },
  {
   "cell_type": "code",
   "execution_count": null,
   "metadata": {
    "collapsed": true
   },
   "outputs": [],
   "source": [
    "bsObj.find('div', {'class' : 'title_desc all_my'}).text.split('/')[1][:-1]"
   ]
  },
  {
   "cell_type": "code",
   "execution_count": null,
   "metadata": {
    "collapsed": true
   },
   "outputs": [],
   "source": [
    "article = Article('http://www.newspim.com/news/view/20170904000197')\n",
    "article.download()\n",
    "article.parse() ## url에 있는 기사 가져옴"
   ]
  },
  {
   "cell_type": "code",
   "execution_count": null,
   "metadata": {
    "collapsed": true
   },
   "outputs": [],
   "source": [
    "article.publish_date.strftime(\"%Y/%m/%d\")"
   ]
  },
  {
   "cell_type": "code",
   "execution_count": null,
   "metadata": {
    "collapsed": true
   },
   "outputs": [],
   "source": [
    "article.title"
   ]
  },
  {
   "cell_type": "code",
   "execution_count": 149,
   "metadata": {
    "collapsed": true
   },
   "outputs": [],
   "source": [
    "companyList = pd.read_csv('/Users/hsw/Desktop/인하대학교/2017년 2학기/빅데이터 자료분석/Project/data/companyList.csv')"
   ]
  },
  {
   "cell_type": "code",
   "execution_count": 150,
   "metadata": {},
   "outputs": [
    {
     "data": {
      "text/html": [
       "<div>\n",
       "<style>\n",
       "    .dataframe thead tr:only-child th {\n",
       "        text-align: right;\n",
       "    }\n",
       "\n",
       "    .dataframe thead th {\n",
       "        text-align: left;\n",
       "    }\n",
       "\n",
       "    .dataframe tbody tr th {\n",
       "        vertical-align: top;\n",
       "    }\n",
       "</style>\n",
       "<table border=\"1\" class=\"dataframe\">\n",
       "  <thead>\n",
       "    <tr style=\"text-align: right;\">\n",
       "      <th></th>\n",
       "      <th>compCode</th>\n",
       "      <th>compCredit</th>\n",
       "      <th>compName</th>\n",
       "      <th>creditDate</th>\n",
       "    </tr>\n",
       "  </thead>\n",
       "  <tbody>\n",
       "    <tr>\n",
       "      <th>0</th>\n",
       "      <td>78340</td>\n",
       "      <td>AA0</td>\n",
       "      <td>(주)컴투스</td>\n",
       "      <td>2017.03.16</td>\n",
       "    </tr>\n",
       "    <tr>\n",
       "      <th>1</th>\n",
       "      <td>78340</td>\n",
       "      <td>A0</td>\n",
       "      <td>(주)컴투스</td>\n",
       "      <td>2016.03.17</td>\n",
       "    </tr>\n",
       "    <tr>\n",
       "      <th>2</th>\n",
       "      <td>78340</td>\n",
       "      <td>A0</td>\n",
       "      <td>(주)컴투스</td>\n",
       "      <td>2015.03.24</td>\n",
       "    </tr>\n",
       "    <tr>\n",
       "      <th>3</th>\n",
       "      <td>78340</td>\n",
       "      <td>AA0</td>\n",
       "      <td>(주)컴투스</td>\n",
       "      <td>2014.05.01</td>\n",
       "    </tr>\n",
       "    <tr>\n",
       "      <th>4</th>\n",
       "      <td>92130</td>\n",
       "      <td>AA-</td>\n",
       "      <td>(주)이크레더블</td>\n",
       "      <td>2017.03.03</td>\n",
       "    </tr>\n",
       "    <tr>\n",
       "      <th>5</th>\n",
       "      <td>92130</td>\n",
       "      <td>AA-</td>\n",
       "      <td>(주)이크레더블</td>\n",
       "      <td>2016.03.03</td>\n",
       "    </tr>\n",
       "    <tr>\n",
       "      <th>6</th>\n",
       "      <td>92130</td>\n",
       "      <td>AAA+</td>\n",
       "      <td>(주)이크레더블</td>\n",
       "      <td>2015.03.12</td>\n",
       "    </tr>\n",
       "    <tr>\n",
       "      <th>7</th>\n",
       "      <td>92130</td>\n",
       "      <td>A0</td>\n",
       "      <td>(주)이크레더블</td>\n",
       "      <td>2014.05.08</td>\n",
       "    </tr>\n",
       "    <tr>\n",
       "      <th>8</th>\n",
       "      <td>69080</td>\n",
       "      <td>A-</td>\n",
       "      <td>(주)웹젠</td>\n",
       "      <td>2017.04.01</td>\n",
       "    </tr>\n",
       "    <tr>\n",
       "      <th>9</th>\n",
       "      <td>69080</td>\n",
       "      <td>BBB+</td>\n",
       "      <td>(주)웹젠</td>\n",
       "      <td>2016.03.16</td>\n",
       "    </tr>\n",
       "    <tr>\n",
       "      <th>10</th>\n",
       "      <td>69080</td>\n",
       "      <td>AA+</td>\n",
       "      <td>(주)웹젠</td>\n",
       "      <td>2015.03.18</td>\n",
       "    </tr>\n",
       "    <tr>\n",
       "      <th>11</th>\n",
       "      <td>69080</td>\n",
       "      <td>A+</td>\n",
       "      <td>(주)웹젠</td>\n",
       "      <td>2014.04.02</td>\n",
       "    </tr>\n",
       "    <tr>\n",
       "      <th>12</th>\n",
       "      <td>214180</td>\n",
       "      <td>A0</td>\n",
       "      <td>(주)민앤지</td>\n",
       "      <td>2017.04.01</td>\n",
       "    </tr>\n",
       "    <tr>\n",
       "      <th>13</th>\n",
       "      <td>214180</td>\n",
       "      <td>A0</td>\n",
       "      <td>(주)민앤지</td>\n",
       "      <td>2016.03.29</td>\n",
       "    </tr>\n",
       "    <tr>\n",
       "      <th>14</th>\n",
       "      <td>214180</td>\n",
       "      <td>A+</td>\n",
       "      <td>(주)민앤지</td>\n",
       "      <td>2015.06.30</td>\n",
       "    </tr>\n",
       "    <tr>\n",
       "      <th>15</th>\n",
       "      <td>30520</td>\n",
       "      <td>A0</td>\n",
       "      <td>(주)한글과컴퓨터</td>\n",
       "      <td>2017.03.18</td>\n",
       "    </tr>\n",
       "    <tr>\n",
       "      <th>16</th>\n",
       "      <td>30520</td>\n",
       "      <td>AA-</td>\n",
       "      <td>(주)한글과컴퓨터</td>\n",
       "      <td>2016.03.29</td>\n",
       "    </tr>\n",
       "    <tr>\n",
       "      <th>17</th>\n",
       "      <td>30520</td>\n",
       "      <td>AA+</td>\n",
       "      <td>(주)한글과컴퓨터</td>\n",
       "      <td>2015.03.27</td>\n",
       "    </tr>\n",
       "    <tr>\n",
       "      <th>18</th>\n",
       "      <td>30520</td>\n",
       "      <td>AA0</td>\n",
       "      <td>(주)한글과컴퓨터</td>\n",
       "      <td>2014.04.09</td>\n",
       "    </tr>\n",
       "    <tr>\n",
       "      <th>19</th>\n",
       "      <td>53800</td>\n",
       "      <td>AA-</td>\n",
       "      <td>(주)안랩</td>\n",
       "      <td>2017.04.11</td>\n",
       "    </tr>\n",
       "    <tr>\n",
       "      <th>20</th>\n",
       "      <td>53800</td>\n",
       "      <td>AA-</td>\n",
       "      <td>(주)안랩</td>\n",
       "      <td>2016.04.22</td>\n",
       "    </tr>\n",
       "    <tr>\n",
       "      <th>21</th>\n",
       "      <td>53800</td>\n",
       "      <td>AA-</td>\n",
       "      <td>(주)안랩</td>\n",
       "      <td>2015.04.20</td>\n",
       "    </tr>\n",
       "    <tr>\n",
       "      <th>22</th>\n",
       "      <td>53800</td>\n",
       "      <td>AA-</td>\n",
       "      <td>(주)안랩</td>\n",
       "      <td>2014.05.12</td>\n",
       "    </tr>\n",
       "    <tr>\n",
       "      <th>23</th>\n",
       "      <td>35720</td>\n",
       "      <td>AA-</td>\n",
       "      <td>(주)카카오</td>\n",
       "      <td>2017.06.28</td>\n",
       "    </tr>\n",
       "    <tr>\n",
       "      <th>24</th>\n",
       "      <td>35720</td>\n",
       "      <td>AA-</td>\n",
       "      <td>(주)카카오</td>\n",
       "      <td>2016.12.23</td>\n",
       "    </tr>\n",
       "    <tr>\n",
       "      <th>25</th>\n",
       "      <td>35720</td>\n",
       "      <td>AA-</td>\n",
       "      <td>(주)카카오</td>\n",
       "      <td>2016.05.10</td>\n",
       "    </tr>\n",
       "    <tr>\n",
       "      <th>26</th>\n",
       "      <td>35720</td>\n",
       "      <td>AA-</td>\n",
       "      <td>(주)카카오</td>\n",
       "      <td>2015.09.04</td>\n",
       "    </tr>\n",
       "    <tr>\n",
       "      <th>27</th>\n",
       "      <td>45390</td>\n",
       "      <td>A-</td>\n",
       "      <td>대아티아이(주)</td>\n",
       "      <td>2017.03.29</td>\n",
       "    </tr>\n",
       "    <tr>\n",
       "      <th>28</th>\n",
       "      <td>45390</td>\n",
       "      <td>A+</td>\n",
       "      <td>대아티아이(주)</td>\n",
       "      <td>2016.08.18</td>\n",
       "    </tr>\n",
       "    <tr>\n",
       "      <th>29</th>\n",
       "      <td>45390</td>\n",
       "      <td>A+</td>\n",
       "      <td>대아티아이(주)</td>\n",
       "      <td>2015.03.18</td>\n",
       "    </tr>\n",
       "    <tr>\n",
       "      <th>...</th>\n",
       "      <td>...</td>\n",
       "      <td>...</td>\n",
       "      <td>...</td>\n",
       "      <td>...</td>\n",
       "    </tr>\n",
       "    <tr>\n",
       "      <th>126</th>\n",
       "      <td>36570</td>\n",
       "      <td>AAA+</td>\n",
       "      <td>(주)엔씨소프트</td>\n",
       "      <td>2015.03.22</td>\n",
       "    </tr>\n",
       "    <tr>\n",
       "      <th>127</th>\n",
       "      <td>36570</td>\n",
       "      <td>AA0</td>\n",
       "      <td>(주)엔씨소프트</td>\n",
       "      <td>2014.03.28</td>\n",
       "    </tr>\n",
       "    <tr>\n",
       "      <th>128</th>\n",
       "      <td>20120</td>\n",
       "      <td>BBB-</td>\n",
       "      <td>(주)다우인큐브</td>\n",
       "      <td>2017.04.02</td>\n",
       "    </tr>\n",
       "    <tr>\n",
       "      <th>129</th>\n",
       "      <td>20120</td>\n",
       "      <td>BBB-</td>\n",
       "      <td>(주)다우인큐브</td>\n",
       "      <td>2016.03.18</td>\n",
       "    </tr>\n",
       "    <tr>\n",
       "      <th>130</th>\n",
       "      <td>20120</td>\n",
       "      <td>BBB+</td>\n",
       "      <td>(주)다우인큐브</td>\n",
       "      <td>2015.03.19</td>\n",
       "    </tr>\n",
       "    <tr>\n",
       "      <th>131</th>\n",
       "      <td>20120</td>\n",
       "      <td>BB+</td>\n",
       "      <td>(주)다우인큐브</td>\n",
       "      <td>2014.08.20</td>\n",
       "    </tr>\n",
       "    <tr>\n",
       "      <th>132</th>\n",
       "      <td>32640</td>\n",
       "      <td>AA0</td>\n",
       "      <td>(주)LG유플러스</td>\n",
       "      <td>2017.06.28</td>\n",
       "    </tr>\n",
       "    <tr>\n",
       "      <th>133</th>\n",
       "      <td>32640</td>\n",
       "      <td>AA0</td>\n",
       "      <td>(주)LG유플러스</td>\n",
       "      <td>2017.01.09</td>\n",
       "    </tr>\n",
       "    <tr>\n",
       "      <th>134</th>\n",
       "      <td>32640</td>\n",
       "      <td>AA0</td>\n",
       "      <td>(주)LG유플러스</td>\n",
       "      <td>2016.06.28</td>\n",
       "    </tr>\n",
       "    <tr>\n",
       "      <th>135</th>\n",
       "      <td>32640</td>\n",
       "      <td>AA0</td>\n",
       "      <td>(주)LG유플러스</td>\n",
       "      <td>2015.06.10</td>\n",
       "    </tr>\n",
       "    <tr>\n",
       "      <th>136</th>\n",
       "      <td>17670</td>\n",
       "      <td>AAA+</td>\n",
       "      <td>SK텔레콤(주)</td>\n",
       "      <td>2017.04.12</td>\n",
       "    </tr>\n",
       "    <tr>\n",
       "      <th>137</th>\n",
       "      <td>17670</td>\n",
       "      <td>AAA+</td>\n",
       "      <td>SK텔레콤(주)</td>\n",
       "      <td>2016.05.20</td>\n",
       "    </tr>\n",
       "    <tr>\n",
       "      <th>138</th>\n",
       "      <td>17670</td>\n",
       "      <td>AAA+</td>\n",
       "      <td>SK텔레콤(주)</td>\n",
       "      <td>2015.10.26</td>\n",
       "    </tr>\n",
       "    <tr>\n",
       "      <th>139</th>\n",
       "      <td>17670</td>\n",
       "      <td>AAA+</td>\n",
       "      <td>SK텔레콤(주)</td>\n",
       "      <td>2014.10.15</td>\n",
       "    </tr>\n",
       "    <tr>\n",
       "      <th>140</th>\n",
       "      <td>36800</td>\n",
       "      <td>A-</td>\n",
       "      <td>나이스정보통신(주)</td>\n",
       "      <td>2017.03.18</td>\n",
       "    </tr>\n",
       "    <tr>\n",
       "      <th>141</th>\n",
       "      <td>36800</td>\n",
       "      <td>A-</td>\n",
       "      <td>나이스정보통신(주)</td>\n",
       "      <td>2016.03.18</td>\n",
       "    </tr>\n",
       "    <tr>\n",
       "      <th>142</th>\n",
       "      <td>36800</td>\n",
       "      <td>AA-</td>\n",
       "      <td>나이스정보통신(주)</td>\n",
       "      <td>2015.03.31</td>\n",
       "    </tr>\n",
       "    <tr>\n",
       "      <th>143</th>\n",
       "      <td>36800</td>\n",
       "      <td>A+</td>\n",
       "      <td>나이스정보통신(주)</td>\n",
       "      <td>2014.05.30</td>\n",
       "    </tr>\n",
       "    <tr>\n",
       "      <th>144</th>\n",
       "      <td>67160</td>\n",
       "      <td>A0</td>\n",
       "      <td>(주)아프리카티비</td>\n",
       "      <td>2017.03.25</td>\n",
       "    </tr>\n",
       "    <tr>\n",
       "      <th>145</th>\n",
       "      <td>67160</td>\n",
       "      <td>A-</td>\n",
       "      <td>(주)아프리카티비</td>\n",
       "      <td>2016.04.02</td>\n",
       "    </tr>\n",
       "    <tr>\n",
       "      <th>146</th>\n",
       "      <td>67160</td>\n",
       "      <td>A-</td>\n",
       "      <td>(주)아프리카티비</td>\n",
       "      <td>2015.03.27</td>\n",
       "    </tr>\n",
       "    <tr>\n",
       "      <th>147</th>\n",
       "      <td>67160</td>\n",
       "      <td>BBB+</td>\n",
       "      <td>(주)아프리카티비</td>\n",
       "      <td>2014.03.25</td>\n",
       "    </tr>\n",
       "    <tr>\n",
       "      <th>148</th>\n",
       "      <td>58850</td>\n",
       "      <td>A-</td>\n",
       "      <td>(주)케이티씨에스</td>\n",
       "      <td>2017.03.26</td>\n",
       "    </tr>\n",
       "    <tr>\n",
       "      <th>149</th>\n",
       "      <td>58850</td>\n",
       "      <td>A0</td>\n",
       "      <td>(주)케이티씨에스</td>\n",
       "      <td>2016.03.27</td>\n",
       "    </tr>\n",
       "    <tr>\n",
       "      <th>150</th>\n",
       "      <td>58850</td>\n",
       "      <td>BBB+</td>\n",
       "      <td>(주)케이티씨에스</td>\n",
       "      <td>2015.03.19</td>\n",
       "    </tr>\n",
       "    <tr>\n",
       "      <th>151</th>\n",
       "      <td>58850</td>\n",
       "      <td>AA-</td>\n",
       "      <td>(주)케이티씨에스</td>\n",
       "      <td>2014.06.13</td>\n",
       "    </tr>\n",
       "    <tr>\n",
       "      <th>152</th>\n",
       "      <td>18260</td>\n",
       "      <td>AA+</td>\n",
       "      <td>삼성에스디에스(주)</td>\n",
       "      <td>2017.04.28</td>\n",
       "    </tr>\n",
       "    <tr>\n",
       "      <th>153</th>\n",
       "      <td>18260</td>\n",
       "      <td>AA0</td>\n",
       "      <td>삼성에스디에스(주)</td>\n",
       "      <td>2016.04.22</td>\n",
       "    </tr>\n",
       "    <tr>\n",
       "      <th>154</th>\n",
       "      <td>18260</td>\n",
       "      <td>AA+</td>\n",
       "      <td>삼성에스디에스(주)</td>\n",
       "      <td>2015.04.30</td>\n",
       "    </tr>\n",
       "    <tr>\n",
       "      <th>155</th>\n",
       "      <td>18260</td>\n",
       "      <td>AA+</td>\n",
       "      <td>삼성에스디에스(주)</td>\n",
       "      <td>2014.06.03</td>\n",
       "    </tr>\n",
       "  </tbody>\n",
       "</table>\n",
       "<p>156 rows × 4 columns</p>\n",
       "</div>"
      ],
      "text/plain": [
       "     compCode compCredit    compName  creditDate\n",
       "0       78340        AA0      (주)컴투스  2017.03.16\n",
       "1       78340         A0      (주)컴투스  2016.03.17\n",
       "2       78340       A0        (주)컴투스  2015.03.24\n",
       "3       78340       AA0       (주)컴투스  2014.05.01\n",
       "4       92130        AA-    (주)이크레더블  2017.03.03\n",
       "5       92130        AA-    (주)이크레더블  2016.03.03\n",
       "6       92130       AAA+    (주)이크레더블  2015.03.12\n",
       "7       92130       A0      (주)이크레더블  2014.05.08\n",
       "8       69080         A-       (주)웹젠  2017.04.01\n",
       "9       69080       BBB+       (주)웹젠  2016.03.16\n",
       "10      69080       AA+        (주)웹젠  2015.03.18\n",
       "11      69080       A+         (주)웹젠  2014.04.02\n",
       "12     214180         A0      (주)민앤지  2017.04.01\n",
       "13     214180         A0      (주)민앤지  2016.03.29\n",
       "14     214180       A+        (주)민앤지  2015.06.30\n",
       "15      30520         A0   (주)한글과컴퓨터  2017.03.18\n",
       "16      30520        AA-   (주)한글과컴퓨터  2016.03.29\n",
       "17      30520       AA+    (주)한글과컴퓨터  2015.03.27\n",
       "18      30520       AA0    (주)한글과컴퓨터  2014.04.09\n",
       "19      53800        AA-       (주)안랩  2017.04.11\n",
       "20      53800        AA-       (주)안랩  2016.04.22\n",
       "21      53800       AA-        (주)안랩  2015.04.20\n",
       "22      53800       AA-        (주)안랩  2014.05.12\n",
       "23      35720        AA-      (주)카카오  2017.06.28\n",
       "24      35720        AA-      (주)카카오  2016.12.23\n",
       "25      35720        AA-      (주)카카오  2016.05.10\n",
       "26      35720       AA-       (주)카카오  2015.09.04\n",
       "27      45390         A-    대아티아이(주)  2017.03.29\n",
       "28      45390         A+    대아티아이(주)  2016.08.18\n",
       "29      45390       A+      대아티아이(주)  2015.03.18\n",
       "..        ...        ...         ...         ...\n",
       "126     36570       AAA+    (주)엔씨소프트  2015.03.22\n",
       "127     36570       AA0     (주)엔씨소프트  2014.03.28\n",
       "128     20120       BBB-    (주)다우인큐브  2017.04.02\n",
       "129     20120       BBB-    (주)다우인큐브  2016.03.18\n",
       "130     20120       BBB+    (주)다우인큐브  2015.03.19\n",
       "131     20120       BB+     (주)다우인큐브  2014.08.20\n",
       "132     32640        AA0   (주)LG유플러스  2017.06.28\n",
       "133     32640        AA0   (주)LG유플러스  2017.01.09\n",
       "134     32640        AA0   (주)LG유플러스  2016.06.28\n",
       "135     32640       AA0    (주)LG유플러스  2015.06.10\n",
       "136     17670       AAA+    SK텔레콤(주)  2017.04.12\n",
       "137     17670       AAA+    SK텔레콤(주)  2016.05.20\n",
       "138     17670       AAA+    SK텔레콤(주)  2015.10.26\n",
       "139     17670       AAA+    SK텔레콤(주)  2014.10.15\n",
       "140     36800         A-  나이스정보통신(주)  2017.03.18\n",
       "141     36800         A-  나이스정보통신(주)  2016.03.18\n",
       "142     36800       AA-   나이스정보통신(주)  2015.03.31\n",
       "143     36800       A+    나이스정보통신(주)  2014.05.30\n",
       "144     67160         A0   (주)아프리카티비  2017.03.25\n",
       "145     67160         A-   (주)아프리카티비  2016.04.02\n",
       "146     67160       A-     (주)아프리카티비  2015.03.27\n",
       "147     67160       BBB+   (주)아프리카티비  2014.03.25\n",
       "148     58850         A-   (주)케이티씨에스  2017.03.26\n",
       "149     58850         A0   (주)케이티씨에스  2016.03.27\n",
       "150     58850       BBB+   (주)케이티씨에스  2015.03.19\n",
       "151     58850       AA-    (주)케이티씨에스  2014.06.13\n",
       "152     18260        AA+  삼성에스디에스(주)  2017.04.28\n",
       "153     18260        AA0  삼성에스디에스(주)  2016.04.22\n",
       "154     18260       AA+   삼성에스디에스(주)  2015.04.30\n",
       "155     18260       AA+   삼성에스디에스(주)  2014.06.03\n",
       "\n",
       "[156 rows x 4 columns]"
      ]
     },
     "execution_count": 150,
     "metadata": {},
     "output_type": "execute_result"
    }
   ],
   "source": [
    "companyList"
   ]
  },
  {
   "cell_type": "code",
   "execution_count": 148,
   "metadata": {
    "collapsed": true
   },
   "outputs": [],
   "source": [
    "companyList['compName']\n",
    "compName2 = []\n",
    "for i in companyList['compName']:\n",
    "    compName2.append(i.replace(\"(주)\",\"\"))"
   ]
  },
  {
   "cell_type": "code",
   "execution_count": null,
   "metadata": {
    "collapsed": true
   },
   "outputs": [],
   "source": []
  },
  {
   "cell_type": "code",
   "execution_count": 6,
   "metadata": {
    "collapsed": true
   },
   "outputs": [],
   "source": [
    "compName = companyList['compName'].unique()"
   ]
  },
  {
   "cell_type": "code",
   "execution_count": 15,
   "metadata": {
    "collapsed": true
   },
   "outputs": [],
   "source": [
    "compName2 = []\n",
    "for i in compName:\n",
    "    compName2.append(i.replace(\"(주)\",\"\"))"
   ]
  },
  {
   "cell_type": "code",
   "execution_count": 197,
   "metadata": {
    "collapsed": true
   },
   "outputs": [],
   "source": [
    "for i in range(7,8):\n",
    "    compURL = []\n",
    "    compName = companyList[i:(i+1)]['compName'].item().replace(\"(주)\",\"\")\n",
    "    creditDate = companyList[i:(i+1)]['creditDate'].item()\n",
    "    if(compName == \"카카오\"):\n",
    "        continue\n",
    "    try:\n",
    "        compURL = Find_URL2(compName,creditDate)\n",
    "    except:\n",
    "        continue\n",
    "    pd.DataFrame(compURL).to_csv('/Users/hsw/Desktop/인하대학교/2017년 2학기/빅데이터 자료분석/Project/URL/' + compName + creditDate + '.csv')"
   ]
  },
  {
   "cell_type": "code",
   "execution_count": 46,
   "metadata": {},
   "outputs": [
    {
     "data": {
      "text/plain": [
       "156"
      ]
     },
     "execution_count": 46,
     "metadata": {},
     "output_type": "execute_result"
    }
   ],
   "source": [
    "companyList.shape[0]"
   ]
  },
  {
   "cell_type": "code",
   "execution_count": 193,
   "metadata": {
    "scrolled": true
   },
   "outputs": [
    {
     "data": {
      "text/plain": [
       "'(주)이크레더블'"
      ]
     },
     "execution_count": 193,
     "metadata": {},
     "output_type": "execute_result"
    }
   ],
   "source": [
    "companyList['compName'][6]"
   ]
  },
  {
   "cell_type": "code",
   "execution_count": 52,
   "metadata": {
    "collapsed": true
   },
   "outputs": [],
   "source": [
    "result = []\n",
    "for i in range(0,100000):\n",
    "        try:\n",
    "            bsObj = BeautifulSoup(driver2.page_source,'html.parser')\n",
    "            obj2 = bsObj.findAll('li', {'id' : re.compile('sp_nws.*')})\n",
    "            for j in obj2:\n",
    "                result.append(j.find('a').attrs['href'])\n",
    "            driver2.find_element_by_class_name('next').click()\n",
    "        except:\n",
    "            break"
   ]
  },
  {
   "cell_type": "code",
   "execution_count": 54,
   "metadata": {
    "collapsed": true
   },
   "outputs": [],
   "source": [
    "pd.DataFrame(result).to_csv('/Users/hsw/Desktop/인하대학교/2017년 2학기/빅데이터 자료분석/Project/data/' + '이크레더블' + '전체' + '.csv')"
   ]
  },
  {
   "cell_type": "code",
   "execution_count": 139,
   "metadata": {
    "collapsed": true
   },
   "outputs": [],
   "source": [
    "import os\n",
    "allList = os.listdir('/Users/hsw/Desktop/인하대학교/2017년 2학기/빅데이터 자료분석/Project/URL/')"
   ]
  },
  {
   "cell_type": "code",
   "execution_count": 164,
   "metadata": {
    "collapsed": true
   },
   "outputs": [],
   "source": [
    "allList2 = allList[1:]"
   ]
  },
  {
   "cell_type": "code",
   "execution_count": 165,
   "metadata": {},
   "outputs": [
    {
     "data": {
      "text/plain": [
       "150"
      ]
     },
     "execution_count": 165,
     "metadata": {},
     "output_type": "execute_result"
    }
   ],
   "source": [
    "len(allList2)"
   ]
  },
  {
   "cell_type": "code",
   "execution_count": 201,
   "metadata": {
    "collapsed": true
   },
   "outputs": [],
   "source": [
    "a = 0\n",
    "for i in allList2:\n",
    "    length = pd.read_csv('/Users/hsw/Desktop/인하대학교/2017년 2학기/빅데이터 자료분석/Project/URL/' + i).shape[0]\n",
    "    if(length > 100):\n",
    "        a += 100\n",
    "    else:\n",
    "        a += length"
   ]
  },
  {
   "cell_type": "code",
   "execution_count": 245,
   "metadata": {},
   "outputs": [
    {
     "data": {
      "text/plain": [
       "'아프리카티비'"
      ]
     },
     "execution_count": 245,
     "metadata": {},
     "output_type": "execute_result"
    }
   ],
   "source": [
    "allList2[60][:-14]"
   ]
  },
  {
   "cell_type": "code",
   "execution_count": 229,
   "metadata": {},
   "outputs": [
    {
     "data": {
      "text/plain": [
       "[0, 2, 8, 9, 6]"
      ]
     },
     "execution_count": 229,
     "metadata": {},
     "output_type": "execute_result"
    }
   ],
   "source": [
    "random.sample(range(0,10),5)"
   ]
  },
  {
   "cell_type": "code",
   "execution_count": 203,
   "metadata": {
    "collapsed": true
   },
   "outputs": [],
   "source": [
    "test = pd.read_csv('/Users/hsw/Desktop/인하대학교/2017년 2학기/빅데이터 자료분석/Project/URL/게임빌2017.03.29.csv')"
   ]
  },
  {
   "cell_type": "code",
   "execution_count": null,
   "metadata": {},
   "outputs": [
    {
     "name": "stdout",
     "output_type": "stream",
     "text": [
      "SK텔레콤 기업이 돌고 있습니다.\n",
      "SK텔레콤 기업이 돌고 있습니다.\n",
      "SK텔레콤 기업이 돌고 있습니다.\n",
      "SK텔레콤 기업이 돌고 있습니다.\n",
      "You must `download()` an article first!\n"
     ]
    }
   ],
   "source": [
    "for i in allList2[4:20]:\n",
    "    allResult = []\n",
    "    print(i[:-14] + ' 기업이 돌고 있습니다.')\n",
    "    allURL = pd.read_csv('/Users/hsw/Desktop/인하대학교/2017년 2학기/빅데이터 자료분석/Project/URL/' + i)['0']\n",
    "    if(len(allURL) > 100):\n",
    "        allURL2 = allURL[random.sample(range(0,len(allURL)),100)]\n",
    "    else:\n",
    "        allURL2 = allURL\n",
    "    for j in allURL2:\n",
    "        allResult.append([i[:-14],Text_analytics(j)])\n",
    "    pd.DataFrame(allResult).to_csv('/Users/hsw/Desktop/인하대학교/2017년 2학기/빅데이터 자료분석/Project/Sentiment/' + i)"
   ]
  },
  {
   "cell_type": "code",
   "execution_count": 65,
   "metadata": {
    "collapsed": true
   },
   "outputs": [],
   "source": [
    "import os\n",
    "allSentiment = os.listdir('/Users/hsw/Desktop/인하대학교/2017년 2학기/빅데이터 자료분석/Project/Sentiment/')[1:]\n",
    "allURL = os.listdir('/Users/hsw/Desktop/인하대학교/2017년 2학기/빅데이터 자료분석/Project/URL/')"
   ]
  },
  {
   "cell_type": "code",
   "execution_count": 76,
   "metadata": {
    "collapsed": true
   },
   "outputs": [],
   "source": [
    "import os\n",
    "allSentiment2 = os.listdir('/Users/hsw/Desktop/인하대학교/2017년 2학기/빅데이터 자료분석/Project/Sentiment2/')\n",
    "allURL = os.listdir('/Users/hsw/Desktop/인하대학교/2017년 2학기/빅데이터 자료분석/Project/URL/')"
   ]
  },
  {
   "cell_type": "code",
   "execution_count": 77,
   "metadata": {},
   "outputs": [
    {
     "data": {
      "text/plain": [
       "['LG유플러스2015.06.10.csv',\n",
       " 'LG유플러스2016.06.28.csv',\n",
       " 'LG유플러스2017.01.09.csv',\n",
       " 'SK텔레콤2014.10.15.csv',\n",
       " 'SK텔레콤2015.10.26.csv',\n",
       " 'SK텔레콤2016.05.20.csv',\n",
       " 'SK텔레콤2017.04.12.csv',\n",
       " '이지웰페어2016.05.23.csv',\n",
       " '이지웰페어2017.01.20.csv',\n",
       " '이지웰페어2017.05.08.csv']"
      ]
     },
     "execution_count": 77,
     "metadata": {},
     "output_type": "execute_result"
    }
   ],
   "source": [
    "allSentiment2"
   ]
  },
  {
   "cell_type": "code",
   "execution_count": 9,
   "metadata": {
    "collapsed": true
   },
   "outputs": [],
   "source": [
    "l = pd.read_csv('/Users/hsw/Desktop/인하대학교/2017년 2학기/빅데이터 자료분석/Project/Sentiment/' + allSentiment[0])['1']"
   ]
  },
  {
   "cell_type": "code",
   "execution_count": 67,
   "metadata": {
    "collapsed": true
   },
   "outputs": [],
   "source": [
    "s = []\n",
    "for i in allSentiment:\n",
    "    l = pd.read_csv('/Users/hsw/Desktop/인하대학교/2017년 2학기/빅데이터 자료분석/Project/Sentiment/' + i, encoding = \"euc-kr\")['1']\n",
    "    allURL = pd.read_csv('/Users/hsw/Desktop/인하대학교/2017년 2학기/빅데이터 자료분석/Project/URL/' + i)['0']\n",
    "    if(len(l[l != -1]) == 0):\n",
    "        mean_Sentiment = -1\n",
    "    else:\n",
    "        mean_Sentiment = sum(l[l != -1]) / len(l[l != -1])\n",
    "    URL_length = len(allURL)\n",
    "    compName = i[0:-14]\n",
    "    creditDate = i[-14:-4]\n",
    "    s.append([compName, creditDate, URL_length, mean_Sentiment])"
   ]
  },
  {
   "cell_type": "code",
   "execution_count": 78,
   "metadata": {
    "collapsed": true
   },
   "outputs": [],
   "source": [
    "s2 = []\n",
    "for i in allSentiment2:\n",
    "    l = pd.read_csv('/Users/hsw/Desktop/인하대학교/2017년 2학기/빅데이터 자료분석/Project/Sentiment2/' + i, encoding = \"utf-8\")['1']\n",
    "    allURL = pd.read_csv('/Users/hsw/Desktop/인하대학교/2017년 2학기/빅데이터 자료분석/Project/URL/' + i)['0']\n",
    "    if(len(l[l != -1]) == 0):\n",
    "        mean_Sentiment = -1\n",
    "    else:\n",
    "        mean_Sentiment = sum(l[l != -1]) / len(l[l != -1])\n",
    "    URL_length = len(allURL)\n",
    "    compName = i[0:-14]\n",
    "    creditDate = i[-14:-4]\n",
    "    s2.append([compName, creditDate, URL_length, mean_Sentiment])"
   ]
  },
  {
   "cell_type": "code",
   "execution_count": 63,
   "metadata": {},
   "outputs": [
    {
     "data": {
      "text/plain": [
       "'액토즈소프트2015.03.20.csv'"
      ]
     },
     "execution_count": 63,
     "metadata": {},
     "output_type": "execute_result"
    }
   ],
   "source": [
    "allSentiment[60]"
   ]
  },
  {
   "cell_type": "code",
   "execution_count": 62,
   "metadata": {
    "collapsed": true
   },
   "outputs": [],
   "source": [
    "af = pd.read_csv('/Users/hsw/Desktop/인하대학교/2017년 2학기/빅데이터 자료분석/Project/Sentiment/' + allSentiment[60], encoding = \"euc-kr\")['1']"
   ]
  },
  {
   "cell_type": "code",
   "execution_count": 73,
   "metadata": {
    "collapsed": true
   },
   "outputs": [],
   "source": [
    "pd.DataFrame(s+s2).to_csv('/Users/hsw/Desktop/인하대학교/2017년 2학기/빅데이터 자료분석/Project/allSentiment_ver2.csv', index = False)"
   ]
  },
  {
   "cell_type": "code",
   "execution_count": 79,
   "metadata": {},
   "outputs": [
    {
     "data": {
      "text/plain": [
       "[['LG유플러스', '2015.06.10', 1018, 76.35443037974683],\n",
       " ['LG유플러스', '2016.06.28', 1147, 85.060240963855421],\n",
       " ['LG유플러스', '2017.01.09', 866, 86.285714285714292],\n",
       " ['SK텔레콤', '2014.10.15', 1471, 82.402439024390247],\n",
       " ['SK텔레콤', '2015.10.26', 1471, 84.975903614457835],\n",
       " ['SK텔레콤', '2016.05.20', 1424, 85.759036144578317],\n",
       " ['SK텔레콤', '2017.04.12', 1043, 89.265060240963862],\n",
       " ['이지웰페어', '2016.05.23', 103, 92.565656565656568],\n",
       " ['이지웰페어', '2017.01.20', 91, 94.045454545454547],\n",
       " ['이지웰페어', '2017.05.08', 45, 83.909090909090907]]"
      ]
     },
     "execution_count": 79,
     "metadata": {},
     "output_type": "execute_result"
    }
   ],
   "source": [
    "s2"
   ]
  },
  {
   "cell_type": "code",
   "execution_count": 138,
   "metadata": {
    "collapsed": true
   },
   "outputs": [],
   "source": [
    "s3 = s+s2"
   ]
  },
  {
   "cell_type": "code",
   "execution_count": 154,
   "metadata": {
    "collapsed": true
   },
   "outputs": [],
   "source": [
    "z = pd.DataFrame(s3)"
   ]
  },
  {
   "cell_type": "code",
   "execution_count": 168,
   "metadata": {
    "collapsed": true
   },
   "outputs": [],
   "source": [
    "a = list(z[0])"
   ]
  },
  {
   "cell_type": "code",
   "execution_count": 144,
   "metadata": {},
   "outputs": [
    {
     "data": {
      "text/html": [
       "<div>\n",
       "<style>\n",
       "    .dataframe thead tr:only-child th {\n",
       "        text-align: right;\n",
       "    }\n",
       "\n",
       "    .dataframe thead th {\n",
       "        text-align: left;\n",
       "    }\n",
       "\n",
       "    .dataframe tbody tr th {\n",
       "        vertical-align: top;\n",
       "    }\n",
       "</style>\n",
       "<table border=\"1\" class=\"dataframe\">\n",
       "  <thead>\n",
       "    <tr style=\"text-align: right;\">\n",
       "      <th></th>\n",
       "      <th>0</th>\n",
       "      <th>1</th>\n",
       "      <th>2</th>\n",
       "      <th>3</th>\n",
       "    </tr>\n",
       "  </thead>\n",
       "  <tbody>\n",
       "    <tr>\n",
       "      <th>0</th>\n",
       "      <td>게임빌</td>\n",
       "      <td>2014.04.29</td>\n",
       "      <td>665</td>\n",
       "      <td>83.855670</td>\n",
       "    </tr>\n",
       "    <tr>\n",
       "      <th>1</th>\n",
       "      <td>게임빌</td>\n",
       "      <td>2015.06.22</td>\n",
       "      <td>659</td>\n",
       "      <td>84.161616</td>\n",
       "    </tr>\n",
       "    <tr>\n",
       "      <th>2</th>\n",
       "      <td>게임빌</td>\n",
       "      <td>2016.03.30</td>\n",
       "      <td>470</td>\n",
       "      <td>91.402062</td>\n",
       "    </tr>\n",
       "    <tr>\n",
       "      <th>3</th>\n",
       "      <td>게임빌</td>\n",
       "      <td>2017.03.29</td>\n",
       "      <td>232</td>\n",
       "      <td>88.040000</td>\n",
       "    </tr>\n",
       "    <tr>\n",
       "      <th>4</th>\n",
       "      <td>나이스정보통신</td>\n",
       "      <td>2014.05.30</td>\n",
       "      <td>16</td>\n",
       "      <td>96.466667</td>\n",
       "    </tr>\n",
       "    <tr>\n",
       "      <th>5</th>\n",
       "      <td>나이스정보통신</td>\n",
       "      <td>2015.03.31</td>\n",
       "      <td>29</td>\n",
       "      <td>87.440000</td>\n",
       "    </tr>\n",
       "    <tr>\n",
       "      <th>6</th>\n",
       "      <td>나이스정보통신</td>\n",
       "      <td>2016.03.18</td>\n",
       "      <td>6</td>\n",
       "      <td>71.166667</td>\n",
       "    </tr>\n",
       "    <tr>\n",
       "      <th>7</th>\n",
       "      <td>나이스정보통신</td>\n",
       "      <td>2017.03.18</td>\n",
       "      <td>6</td>\n",
       "      <td>71.166667</td>\n",
       "    </tr>\n",
       "    <tr>\n",
       "      <th>8</th>\n",
       "      <td>네오디안테크놀로지</td>\n",
       "      <td>2016.04.24</td>\n",
       "      <td>12</td>\n",
       "      <td>97.000000</td>\n",
       "    </tr>\n",
       "    <tr>\n",
       "      <th>9</th>\n",
       "      <td>네오디안테크놀로지</td>\n",
       "      <td>2017.04.20</td>\n",
       "      <td>8</td>\n",
       "      <td>82.375000</td>\n",
       "    </tr>\n",
       "    <tr>\n",
       "      <th>10</th>\n",
       "      <td>누리텔레콤</td>\n",
       "      <td>2015.03.25</td>\n",
       "      <td>22</td>\n",
       "      <td>81.842105</td>\n",
       "    </tr>\n",
       "    <tr>\n",
       "      <th>11</th>\n",
       "      <td>누리텔레콤</td>\n",
       "      <td>2016.06.15</td>\n",
       "      <td>35</td>\n",
       "      <td>82.542857</td>\n",
       "    </tr>\n",
       "    <tr>\n",
       "      <th>12</th>\n",
       "      <td>누리텔레콤</td>\n",
       "      <td>2017.04.26</td>\n",
       "      <td>15</td>\n",
       "      <td>81.866667</td>\n",
       "    </tr>\n",
       "    <tr>\n",
       "      <th>13</th>\n",
       "      <td>누리텔레콤</td>\n",
       "      <td>2017.05.25</td>\n",
       "      <td>15</td>\n",
       "      <td>92.733333</td>\n",
       "    </tr>\n",
       "    <tr>\n",
       "      <th>14</th>\n",
       "      <td>다우인큐브</td>\n",
       "      <td>2014.08.20</td>\n",
       "      <td>1</td>\n",
       "      <td>97.000000</td>\n",
       "    </tr>\n",
       "    <tr>\n",
       "      <th>15</th>\n",
       "      <td>다우인큐브</td>\n",
       "      <td>2015.03.19</td>\n",
       "      <td>6</td>\n",
       "      <td>75.000000</td>\n",
       "    </tr>\n",
       "    <tr>\n",
       "      <th>16</th>\n",
       "      <td>다우인큐브</td>\n",
       "      <td>2016.03.18</td>\n",
       "      <td>9</td>\n",
       "      <td>99.500000</td>\n",
       "    </tr>\n",
       "    <tr>\n",
       "      <th>17</th>\n",
       "      <td>다우인큐브</td>\n",
       "      <td>2017.04.02</td>\n",
       "      <td>3</td>\n",
       "      <td>82.666667</td>\n",
       "    </tr>\n",
       "    <tr>\n",
       "      <th>18</th>\n",
       "      <td>대신정보통신</td>\n",
       "      <td>2014.07.23</td>\n",
       "      <td>2</td>\n",
       "      <td>95.000000</td>\n",
       "    </tr>\n",
       "    <tr>\n",
       "      <th>19</th>\n",
       "      <td>대신정보통신</td>\n",
       "      <td>2015.06.25</td>\n",
       "      <td>12</td>\n",
       "      <td>67.333333</td>\n",
       "    </tr>\n",
       "    <tr>\n",
       "      <th>20</th>\n",
       "      <td>대신정보통신</td>\n",
       "      <td>2016.06.02</td>\n",
       "      <td>14</td>\n",
       "      <td>77.642857</td>\n",
       "    </tr>\n",
       "    <tr>\n",
       "      <th>21</th>\n",
       "      <td>대신정보통신</td>\n",
       "      <td>2017.06.08</td>\n",
       "      <td>17</td>\n",
       "      <td>81.294118</td>\n",
       "    </tr>\n",
       "    <tr>\n",
       "      <th>22</th>\n",
       "      <td>대아티아이</td>\n",
       "      <td>2014.11.15</td>\n",
       "      <td>10</td>\n",
       "      <td>91.555556</td>\n",
       "    </tr>\n",
       "    <tr>\n",
       "      <th>23</th>\n",
       "      <td>대아티아이</td>\n",
       "      <td>2015.03.18</td>\n",
       "      <td>14</td>\n",
       "      <td>90.923077</td>\n",
       "    </tr>\n",
       "    <tr>\n",
       "      <th>24</th>\n",
       "      <td>대아티아이</td>\n",
       "      <td>2016.08.18</td>\n",
       "      <td>5</td>\n",
       "      <td>74.500000</td>\n",
       "    </tr>\n",
       "    <tr>\n",
       "      <th>25</th>\n",
       "      <td>대아티아이</td>\n",
       "      <td>2017.03.29</td>\n",
       "      <td>14</td>\n",
       "      <td>77.000000</td>\n",
       "    </tr>\n",
       "    <tr>\n",
       "      <th>26</th>\n",
       "      <td>로지시스</td>\n",
       "      <td>2015.08.17</td>\n",
       "      <td>2</td>\n",
       "      <td>86.000000</td>\n",
       "    </tr>\n",
       "    <tr>\n",
       "      <th>27</th>\n",
       "      <td>로지시스</td>\n",
       "      <td>2016.05.03</td>\n",
       "      <td>37</td>\n",
       "      <td>81.527778</td>\n",
       "    </tr>\n",
       "    <tr>\n",
       "      <th>28</th>\n",
       "      <td>로지시스</td>\n",
       "      <td>2017.05.08</td>\n",
       "      <td>4</td>\n",
       "      <td>97.000000</td>\n",
       "    </tr>\n",
       "    <tr>\n",
       "      <th>29</th>\n",
       "      <td>로지시스</td>\n",
       "      <td>2017.06.07</td>\n",
       "      <td>4</td>\n",
       "      <td>97.000000</td>\n",
       "    </tr>\n",
       "    <tr>\n",
       "      <th>...</th>\n",
       "      <td>...</td>\n",
       "      <td>...</td>\n",
       "      <td>...</td>\n",
       "      <td>...</td>\n",
       "    </tr>\n",
       "    <tr>\n",
       "      <th>112</th>\n",
       "      <td>코나아이</td>\n",
       "      <td>2016.03.27</td>\n",
       "      <td>68</td>\n",
       "      <td>89.533333</td>\n",
       "    </tr>\n",
       "    <tr>\n",
       "      <th>113</th>\n",
       "      <td>코나아이</td>\n",
       "      <td>2017.03.18</td>\n",
       "      <td>61</td>\n",
       "      <td>88.303571</td>\n",
       "    </tr>\n",
       "    <tr>\n",
       "      <th>114</th>\n",
       "      <td>큐로컴</td>\n",
       "      <td>2014.04.28</td>\n",
       "      <td>10</td>\n",
       "      <td>53.666667</td>\n",
       "    </tr>\n",
       "    <tr>\n",
       "      <th>115</th>\n",
       "      <td>큐로컴</td>\n",
       "      <td>2015.03.18</td>\n",
       "      <td>12</td>\n",
       "      <td>82.000000</td>\n",
       "    </tr>\n",
       "    <tr>\n",
       "      <th>116</th>\n",
       "      <td>큐로컴</td>\n",
       "      <td>2016.03.22</td>\n",
       "      <td>10</td>\n",
       "      <td>90.800000</td>\n",
       "    </tr>\n",
       "    <tr>\n",
       "      <th>117</th>\n",
       "      <td>큐로컴</td>\n",
       "      <td>2017.03.16</td>\n",
       "      <td>37</td>\n",
       "      <td>92.472222</td>\n",
       "    </tr>\n",
       "    <tr>\n",
       "      <th>118</th>\n",
       "      <td>파수닷컴</td>\n",
       "      <td>2014.05.14</td>\n",
       "      <td>44</td>\n",
       "      <td>91.393939</td>\n",
       "    </tr>\n",
       "    <tr>\n",
       "      <th>119</th>\n",
       "      <td>파수닷컴</td>\n",
       "      <td>2015.04.29</td>\n",
       "      <td>33</td>\n",
       "      <td>89.625000</td>\n",
       "    </tr>\n",
       "    <tr>\n",
       "      <th>120</th>\n",
       "      <td>파수닷컴</td>\n",
       "      <td>2016.04.27</td>\n",
       "      <td>29</td>\n",
       "      <td>96.689655</td>\n",
       "    </tr>\n",
       "    <tr>\n",
       "      <th>121</th>\n",
       "      <td>파수닷컴</td>\n",
       "      <td>2017.04.28</td>\n",
       "      <td>21</td>\n",
       "      <td>84.047619</td>\n",
       "    </tr>\n",
       "    <tr>\n",
       "      <th>122</th>\n",
       "      <td>팍스넷</td>\n",
       "      <td>2014.05.10</td>\n",
       "      <td>18</td>\n",
       "      <td>77.500000</td>\n",
       "    </tr>\n",
       "    <tr>\n",
       "      <th>123</th>\n",
       "      <td>팍스넷</td>\n",
       "      <td>2016.04.07</td>\n",
       "      <td>1</td>\n",
       "      <td>50.000000</td>\n",
       "    </tr>\n",
       "    <tr>\n",
       "      <th>124</th>\n",
       "      <td>팍스넷</td>\n",
       "      <td>2017.03.26</td>\n",
       "      <td>21</td>\n",
       "      <td>66.380952</td>\n",
       "    </tr>\n",
       "    <tr>\n",
       "      <th>125</th>\n",
       "      <td>한글과컴퓨터</td>\n",
       "      <td>2014.04.09</td>\n",
       "      <td>93</td>\n",
       "      <td>91.646341</td>\n",
       "    </tr>\n",
       "    <tr>\n",
       "      <th>126</th>\n",
       "      <td>한글과컴퓨터</td>\n",
       "      <td>2015.03.27</td>\n",
       "      <td>132</td>\n",
       "      <td>86.886364</td>\n",
       "    </tr>\n",
       "    <tr>\n",
       "      <th>127</th>\n",
       "      <td>한글과컴퓨터</td>\n",
       "      <td>2016.03.29</td>\n",
       "      <td>100</td>\n",
       "      <td>93.109890</td>\n",
       "    </tr>\n",
       "    <tr>\n",
       "      <th>128</th>\n",
       "      <td>한글과컴퓨터</td>\n",
       "      <td>2017.03.18</td>\n",
       "      <td>56</td>\n",
       "      <td>91.627451</td>\n",
       "    </tr>\n",
       "    <tr>\n",
       "      <th>129</th>\n",
       "      <td>핸디소프트</td>\n",
       "      <td>2014.05.09</td>\n",
       "      <td>2</td>\n",
       "      <td>100.000000</td>\n",
       "    </tr>\n",
       "    <tr>\n",
       "      <th>130</th>\n",
       "      <td>핸디소프트</td>\n",
       "      <td>2015.05.11</td>\n",
       "      <td>4</td>\n",
       "      <td>86.750000</td>\n",
       "    </tr>\n",
       "    <tr>\n",
       "      <th>131</th>\n",
       "      <td>핸디소프트</td>\n",
       "      <td>2016.09.07</td>\n",
       "      <td>13</td>\n",
       "      <td>92.307692</td>\n",
       "    </tr>\n",
       "    <tr>\n",
       "      <th>132</th>\n",
       "      <td>핸디소프트</td>\n",
       "      <td>2017.03.31</td>\n",
       "      <td>42</td>\n",
       "      <td>87.214286</td>\n",
       "    </tr>\n",
       "    <tr>\n",
       "      <th>133</th>\n",
       "      <td>LG유플러스</td>\n",
       "      <td>2016.06.28</td>\n",
       "      <td>1147</td>\n",
       "      <td>85.060241</td>\n",
       "    </tr>\n",
       "    <tr>\n",
       "      <th>134</th>\n",
       "      <td>LG유플러스</td>\n",
       "      <td>2017.01.09</td>\n",
       "      <td>866</td>\n",
       "      <td>86.285714</td>\n",
       "    </tr>\n",
       "    <tr>\n",
       "      <th>135</th>\n",
       "      <td>SK텔레콤</td>\n",
       "      <td>2014.10.15</td>\n",
       "      <td>1471</td>\n",
       "      <td>82.402439</td>\n",
       "    </tr>\n",
       "    <tr>\n",
       "      <th>136</th>\n",
       "      <td>SK텔레콤</td>\n",
       "      <td>2015.10.26</td>\n",
       "      <td>1471</td>\n",
       "      <td>84.975904</td>\n",
       "    </tr>\n",
       "    <tr>\n",
       "      <th>137</th>\n",
       "      <td>SK텔레콤</td>\n",
       "      <td>2016.05.20</td>\n",
       "      <td>1424</td>\n",
       "      <td>85.759036</td>\n",
       "    </tr>\n",
       "    <tr>\n",
       "      <th>138</th>\n",
       "      <td>SK텔레콤</td>\n",
       "      <td>2017.04.12</td>\n",
       "      <td>1043</td>\n",
       "      <td>89.265060</td>\n",
       "    </tr>\n",
       "    <tr>\n",
       "      <th>139</th>\n",
       "      <td>이지웰페어</td>\n",
       "      <td>2016.05.23</td>\n",
       "      <td>103</td>\n",
       "      <td>92.565657</td>\n",
       "    </tr>\n",
       "    <tr>\n",
       "      <th>140</th>\n",
       "      <td>이지웰페어</td>\n",
       "      <td>2017.01.20</td>\n",
       "      <td>91</td>\n",
       "      <td>94.045455</td>\n",
       "    </tr>\n",
       "    <tr>\n",
       "      <th>141</th>\n",
       "      <td>이지웰페어</td>\n",
       "      <td>2017.05.08</td>\n",
       "      <td>45</td>\n",
       "      <td>83.909091</td>\n",
       "    </tr>\n",
       "  </tbody>\n",
       "</table>\n",
       "<p>142 rows × 4 columns</p>\n",
       "</div>"
      ],
      "text/plain": [
       "                        0           1     2           3\n",
       "0                게임빌  2014.04.29   665   83.855670\n",
       "1                게임빌  2015.06.22   659   84.161616\n",
       "2                게임빌  2016.03.30   470   91.402062\n",
       "3                게임빌  2017.03.29   232   88.040000\n",
       "4       나이스정보통신  2014.05.30    16   96.466667\n",
       "5       나이스정보통신  2015.03.31    29   87.440000\n",
       "6       나이스정보통신  2016.03.18     6   71.166667\n",
       "7       나이스정보통신  2017.03.18     6   71.166667\n",
       "8    네오디안테크놀로지  2016.04.24    12   97.000000\n",
       "9    네오디안테크놀로지  2017.04.20     8   82.375000\n",
       "10           누리텔레콤  2015.03.25    22   81.842105\n",
       "11           누리텔레콤  2016.06.15    35   82.542857\n",
       "12           누리텔레콤  2017.04.26    15   81.866667\n",
       "13           누리텔레콤  2017.05.25    15   92.733333\n",
       "14            다우인큐브  2014.08.20     1   97.000000\n",
       "15            다우인큐브  2015.03.19     6   75.000000\n",
       "16            다우인큐브  2016.03.18     9   99.500000\n",
       "17            다우인큐브  2017.04.02     3   82.666667\n",
       "18       대신정보통신  2014.07.23     2   95.000000\n",
       "19       대신정보통신  2015.06.25    12   67.333333\n",
       "20       대신정보통신  2016.06.02    14   77.642857\n",
       "21       대신정보통신  2017.06.08    17   81.294118\n",
       "22             대아티아이  2014.11.15    10   91.555556\n",
       "23             대아티아이  2015.03.18    14   90.923077\n",
       "24             대아티아이  2016.08.18     5   74.500000\n",
       "25             대아티아이  2017.03.29    14   77.000000\n",
       "26               로지시스  2015.08.17     2   86.000000\n",
       "27               로지시스  2016.05.03    37   81.527778\n",
       "28               로지시스  2017.05.08     4   97.000000\n",
       "29               로지시스  2017.06.07     4   97.000000\n",
       "..                    ...         ...   ...         ...\n",
       "112              코나아이  2016.03.27    68   89.533333\n",
       "113              코나아이  2017.03.18    61   88.303571\n",
       "114               큐로컴  2014.04.28    10   53.666667\n",
       "115               큐로컴  2015.03.18    12   82.000000\n",
       "116               큐로컴  2016.03.22    10   90.800000\n",
       "117               큐로컴  2017.03.16    37   92.472222\n",
       "118            파수닷컴  2014.05.14    44   91.393939\n",
       "119            파수닷컴  2015.04.29    33   89.625000\n",
       "120            파수닷컴  2016.04.27    29   96.689655\n",
       "121            파수닷컴  2017.04.28    21   84.047619\n",
       "122              팍스넷  2014.05.10    18   77.500000\n",
       "123              팍스넷  2016.04.07     1   50.000000\n",
       "124              팍스넷  2017.03.26    21   66.380952\n",
       "125       한글과컴퓨터  2014.04.09    93   91.646341\n",
       "126       한글과컴퓨터  2015.03.27   132   86.886364\n",
       "127       한글과컴퓨터  2016.03.29   100   93.109890\n",
       "128       한글과컴퓨터  2017.03.18    56   91.627451\n",
       "129           핸디소프트  2014.05.09     2  100.000000\n",
       "130           핸디소프트  2015.05.11     4   86.750000\n",
       "131           핸디소프트  2016.09.07    13   92.307692\n",
       "132           핸디소프트  2017.03.31    42   87.214286\n",
       "133           LG유플러스  2016.06.28  1147   85.060241\n",
       "134           LG유플러스  2017.01.09   866   86.285714\n",
       "135            SK텔레콤  2014.10.15  1471   82.402439\n",
       "136            SK텔레콤  2015.10.26  1471   84.975904\n",
       "137            SK텔레콤  2016.05.20  1424   85.759036\n",
       "138            SK텔레콤  2017.04.12  1043   89.265060\n",
       "139           이지웰페어  2016.05.23   103   92.565657\n",
       "140           이지웰페어  2017.01.20    91   94.045455\n",
       "141           이지웰페어  2017.05.08    45   83.909091\n",
       "\n",
       "[142 rows x 4 columns]"
      ]
     },
     "execution_count": 144,
     "metadata": {},
     "output_type": "execute_result"
    }
   ],
   "source": [
    "pd.DataFrame(s3)"
   ]
  }
 ],
 "metadata": {
  "kernelspec": {
   "display_name": "Python 3",
   "language": "python",
   "name": "python3"
  },
  "language_info": {
   "codemirror_mode": {
    "name": "ipython",
    "version": 3
   },
   "file_extension": ".py",
   "mimetype": "text/x-python",
   "name": "python",
   "nbconvert_exporter": "python",
   "pygments_lexer": "ipython3",
   "version": "3.5.3"
  }
 },
 "nbformat": 4,
 "nbformat_minor": 2
}
